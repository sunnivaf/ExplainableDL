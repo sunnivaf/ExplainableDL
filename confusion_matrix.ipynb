{
 "cells": [
  {
   "cell_type": "code",
   "execution_count": 62,
   "metadata": {},
   "outputs": [],
   "source": [
    "#Code for making confusion matrices from tn, fn, tp and fp\n",
    "import matplotlib.pyplot as plt\n",
    "import numpy as np\n",
    "from matplotlib.colors import Normalize"
   ]
  },
  {
   "cell_type": "code",
   "execution_count": 75,
   "metadata": {},
   "outputs": [],
   "source": [
    "def plot_confusion_matrix(tn, fp, fn, tp):\n",
    "    matrix = [[tn, fp], [fn, tp]]\n",
    "    matrix = np.array(matrix)\n",
    "\n",
    "    fig, ax = plt.subplots()\n",
    "    im = ax.imshow(matrix, cmap='Blues')\n",
    "\n",
    "    # Set axis labels\n",
    "    ax.set_xticks(np.arange(2))\n",
    "    ax.set_yticks(np.arange(2))\n",
    "    ax.set_xticklabels(['Non-Alcohol', 'Alcohol'])\n",
    "    ax.set_yticklabels(['Non-Alcohol', 'Alcohol'])\n",
    "    ax.xaxis.set_tick_params(labelsize=10)\n",
    "    ax.yaxis.set_tick_params(labelsize=10)\n",
    "\n",
    "    # Add values to each cell\n",
    "    for i in range(matrix.shape[0]):\n",
    "        for j in range(matrix.shape[1]):\n",
    "            text_color = 'white' if im.norm(matrix[i, j]) > 0.5 else 'black'\n",
    "            text = ax.text(j, i, matrix[i, j], ha=\"center\", va=\"center\", color=text_color, fontsize=10)\n",
    "\n",
    "    # Set title and axis labels\n",
    "    #plt.title(\"Confusion Matrix\", fontsize=18)\n",
    "    plt.xlabel('Predicted label', fontsize=10)\n",
    "    plt.ylabel('True label', fontsize=10)\n",
    "\n",
    "    # Display color bar\n",
    "    cbar = ax.figure.colorbar(im, ax=ax)\n",
    "    #cbar.ax.set_ylabel('Number of Samples', rotation=-90, va=\"bottom\", fontsize=14)\n",
    "\n",
    "    # Show plot\n",
    "    plt.show()"
   ]
  },
  {
   "cell_type": "code",
   "execution_count": null,
   "metadata": {},
   "outputs": [],
   "source": [
    "# Example usage\n",
    "tn = 60\n",
    "fp = 0\n",
    "fn = 46\n",
    "tp = 14\n",
    "plot_confusion_matrix(tn, fp, fn, tp)"
   ]
  }
 ],
 "metadata": {
  "kernelspec": {
   "display_name": "CNN",
   "language": "python",
   "name": "python3"
  },
  "language_info": {
   "codemirror_mode": {
    "name": "ipython",
    "version": 3
   },
   "file_extension": ".py",
   "mimetype": "text/x-python",
   "name": "python",
   "nbconvert_exporter": "python",
   "pygments_lexer": "ipython3",
   "version": "3.8.16"
  },
  "orig_nbformat": 4
 },
 "nbformat": 4,
 "nbformat_minor": 2
}
