{
 "cells": [
  {
   "cell_type": "code",
   "execution_count": 1,
   "metadata": {},
   "outputs": [],
   "source": [
    "import numpy as np\n",
    "import pandas as pd\n",
    "import pyxdf\n",
    "\n",
    "# mne imports\n",
    "import mne\n",
    "from mne import io\n",
    "from mne.datasets import sample\n",
    "\n",
    "# EEGNet-specific imports\n",
    "from EEGModels import EEGNet\n",
    "import tensorflow\n",
    "from tensorflow.keras import utils as np_utils\n",
    "from tensorflow.keras.callbacks import ModelCheckpoint\n",
    "from tensorflow.keras import backend as K\n",
    "from tensorflow.keras.utils import to_categorical\n",
    "from tensorflow.keras.callbacks import EarlyStopping\n",
    "from tensorflow.keras.optimizers import Adam\n",
    "\n",
    "# PyRiemann imports\n",
    "from pyriemann.estimation import XdawnCovariances\n",
    "from pyriemann.tangentspace import TangentSpace\n",
    "\n",
    "#Sklearn imports\n",
    "from sklearn.pipeline import make_pipeline\n",
    "from sklearn.linear_model import LogisticRegression\n",
    "from sklearn.model_selection import train_test_split\n",
    "from sklearn.preprocessing import StandardScaler, MinMaxScaler\n",
    "from sklearn.model_selection import StratifiedKFold\n",
    "from sklearn.model_selection import KFold\n",
    "from sklearn.utils import compute_class_weight\n",
    "from sklearn.utils import shuffle\n",
    "from sklearn.utils import class_weight\n",
    "from sklearn.metrics import ConfusionMatrixDisplay\n",
    "from sklearn.metrics import f1_score\n",
    "from sklearn.metrics import precision_score\n",
    "from sklearn.metrics import recall_score\n",
    "\n",
    "# tools for plotting confusion matrices\n",
    "from matplotlib import pyplot as plt\n",
    "from sklearn.metrics import confusion_matrix\n",
    "from pyriemann.utils.viz import plot_confusion_matrix"
   ]
  },
  {
   "cell_type": "code",
   "execution_count": 306,
   "metadata": {},
   "outputs": [],
   "source": [
    "#Testing of the individual model\n",
    "\n",
    "kernels, chans, samples = 1, 16, 1233"
   ]
  },
  {
   "cell_type": "code",
   "execution_count": 307,
   "metadata": {},
   "outputs": [],
   "source": [
    "model = EEGNet(nb_classes = 1, Chans = chans, Samples = samples, \n",
    "               dropoutRate = 0.5, kernLength = 125, F1 = 8, D = 2, F2 = 16, \n",
    "               dropoutType = 'Dropout')\n",
    "\n",
    "model.compile(loss='binary_crossentropy', optimizer=Adam(learning_rate=0.001),\n",
    "              metrics = ['accuracy'])"
   ]
  },
  {
   "cell_type": "code",
   "execution_count": 308,
   "metadata": {},
   "outputs": [],
   "source": [
    "X_train = np.loadtxt(\"X_train_P20_5.csv\")\n",
    "Y_train = np.loadtxt(\"Y_train_P20_5.csv\")\n",
    "\n",
    "X_test = np.loadtxt(\"X_test_P20_5.csv\")\n",
    "Y_test = np.loadtxt(\"Y_test_P20_5.csv\")\n",
    "\n",
    "X_train = X_train.reshape(\n",
    "     X_train.shape[0], X_train.shape[1] // samples, samples)\n",
    "\n",
    "X_test = X_test.reshape(\n",
    "     X_test.shape[0], X_test.shape[1] // samples, samples)"
   ]
  },
  {
   "cell_type": "code",
   "execution_count": 310,
   "metadata": {},
   "outputs": [],
   "source": [
    "scaler = StandardScaler()\n",
    "X_train = scaler.fit_transform(X_train.reshape(X_train.shape[0], -1)).reshape(X_train.shape)\n",
    "X_test = scaler.fit_transform(X_test.reshape(X_test.shape[0], -1)).reshape(X_test.shape)\n",
    "\n",
    "randomize_train = np.arange(len(X_train))\n",
    "np.random.shuffle(randomize_train)\n",
    "X_train = X_train[randomize_train]\n",
    "Y_train = Y_train[randomize_train]\n",
    "\n",
    "randomize_test = np.arange(len(X_test))\n",
    "np.random.shuffle(randomize_train)\n",
    "X_test = X_test[randomize_test]\n",
    "Y_test = Y_test[randomize_test]"
   ]
  },
  {
   "cell_type": "code",
   "execution_count": 311,
   "metadata": {},
   "outputs": [],
   "source": [
    "X_train  = X_train.reshape(X_train.shape[0], chans, samples, kernels)\n",
    "X_test  = X_test.reshape(X_test.shape[0], chans, samples, kernels)"
   ]
  },
  {
   "cell_type": "code",
   "execution_count": null,
   "metadata": {},
   "outputs": [],
   "source": [
    "fittedModel = model.fit(X_train, Y_train, batch_size = 20, epochs = 20)"
   ]
  },
  {
   "cell_type": "code",
   "execution_count": null,
   "metadata": {},
   "outputs": [],
   "source": [
    "score = model.evaluate(X_test, Y_test)\n",
    "\n",
    "pred_val = model.predict(X_test)\n",
    "pred_val = np.where(pred_val > 0.5, 1, 0)\n",
    "\n",
    "labels = [\"Non-Alcohol\", \"Alcohol\"]\n",
    "cm = confusion_matrix(Y_test, pred_val)\n",
    "disp = ConfusionMatrixDisplay(confusion_matrix=cm, display_labels=labels)\n",
    "disp.plot(cmap=plt.cm.Blues)\n",
    "plt.show()\n",
    "\n",
    "tn = cm[0][0] #true negatives\n",
    "fn = cm[0][1] #false positives\n",
    "\n",
    "accuracy = score[1]\n",
    "F1_score = f1_score(y_true=Y_test, y_pred=pred_val)\n",
    "precision= precision_score(y_true=Y_test, y_pred=pred_val)\n",
    "recall = recall_score(y_true=Y_test, y_pred=pred_val)\n",
    "specificity = tn/(tn+fn)"
   ]
  },
  {
   "cell_type": "code",
   "execution_count": null,
   "metadata": {},
   "outputs": [],
   "source": [
    "print(\"The accuracy of the model with cross validation is\", accuracy)\n",
    "print(\"The precision score of the model with cross validation is\", precision)\n",
    "print(\"The recall score of the model with cross validation is\", recall)\n",
    "print(\"The F1 score of the model with cross validation is\", F1_score)\n",
    "print(\"The specificity score of the model with cross validation is\", specificity)"
   ]
  }
 ],
 "metadata": {
  "kernelspec": {
   "display_name": "CNN",
   "language": "python",
   "name": "python3"
  },
  "language_info": {
   "codemirror_mode": {
    "name": "ipython",
    "version": 3
   },
   "file_extension": ".py",
   "mimetype": "text/x-python",
   "name": "python",
   "nbconvert_exporter": "python",
   "pygments_lexer": "ipython3",
   "version": "3.8.16"
  },
  "orig_nbformat": 4
 },
 "nbformat": 4,
 "nbformat_minor": 2
}
