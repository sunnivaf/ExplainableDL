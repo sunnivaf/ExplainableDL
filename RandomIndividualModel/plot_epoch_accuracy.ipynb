{
 "cells": [
  {
   "cell_type": "code",
   "execution_count": 1,
   "metadata": {},
   "outputs": [],
   "source": [
    "import matplotlib.pyplot as plt\n",
    "import statistics\n",
    "import matplotlib.colors as mcolors\n",
    "import numpy as np"
   ]
  },
  {
   "cell_type": "code",
   "execution_count": null,
   "metadata": {},
   "outputs": [],
   "source": [
    "five_sec_epochs = [1.000, 1.000,1.000, 1.000, 1.000, 1.000, 1.000, 1.000, 0.932, 0.985, 1.000, 1.000, 1.000, 1.000, 1.000, 1.000, 1.000, 1.000, 1.000, 1.000] \n",
    "ten_sec_epochs = [1.000, 1.000, 1.000, 1.000, 1.000, 1.000, 1.000, 1.000, 1.000, 0.988, 0.988, 0.969, 1.000, 1.000, 1.000, 0.988, 1.000, 1.000, 1.000, 0.945]\n",
    "twent_sec_epohs = [0.989, 0.958, 0.989, 1.000, 1.000, 1.000, 1.000, 0.969, 1.000, 0.951, 1.000, 0.968, 1.000, 1.000, 0.866, 1.000, 1.000, 0.968, 1.000, 1.000]\n",
    "thirty_sec_epochs = [1.000, 0.938, 0.938, 0.981, 1.000, 1.000, 1.000, 0.907, 0.954, 0.819, 0.950, 1.000, 0.953, 1.000, 1.000, 0.880, 0.952, 0.967, 1.000, 0.928]\n",
    "\n",
    "lengths = ['5 sec', '10 sec', '20 sec', '30 sec']\n",
    "counts = [statistics.mean(five_sec_epochs), statistics.mean(ten_sec_epochs), statistics.mean(twent_sec_epohs), statistics.mean(thirty_sec_epochs)]\n",
    "\n",
    "bar_labels = ['cornflowerblue', 'lightgreen', 'grey', 'sandybrown']\n",
    "bar_colors = ['cornflowerblue', 'lightgreen', 'tab:grey', 'sandybrown']\n",
    "\n",
    "lenghts_epochs = ('5 sec', '10 sec', '20 sec', '30 sec')\n",
    "acc_counts = {\n",
    "    'Accuracy': np.array([statistics.mean(five_sec_epochs), statistics.mean(ten_sec_epochs), statistics.mean(twent_sec_epohs), statistics.mean(thirty_sec_epochs)])\n",
    "}\n",
    "width = 0.6  # the width of the bars: can also be len(x) sequence\n",
    "\n",
    "\n",
    "fig, ax = plt.subplots()\n",
    "bottom = np.zeros(4)\n",
    "\n",
    "for sex, sex_count in acc_counts.items():\n",
    "    p = ax.bar(lenghts_epochs, sex_count, width, bottom=bottom, color=bar_colors)\n",
    "    bottom += sex_count\n",
    "\n",
    "    ax.bar_label(p, label_type='center')\n",
    "\n",
    "ax.set_ylabel('Average accuracy')\n",
    "ax.set_title('Average accuracy for different epoch lengths')\n",
    "#ax.legend(title='Fruit color')\n",
    "ymin=0.85\n",
    "ymax=1.0\n",
    "ax.set_ylim([ymin, ymax])\n",
    "\n",
    "plt.show()"
   ]
  }
 ],
 "metadata": {
  "kernelspec": {
   "display_name": "CNN",
   "language": "python",
   "name": "python3"
  },
  "language_info": {
   "codemirror_mode": {
    "name": "ipython",
    "version": 3
   },
   "file_extension": ".py",
   "mimetype": "text/x-python",
   "name": "python",
   "nbconvert_exporter": "python",
   "pygments_lexer": "ipython3",
   "version": "3.8.16"
  },
  "orig_nbformat": 4
 },
 "nbformat": 4,
 "nbformat_minor": 2
}
