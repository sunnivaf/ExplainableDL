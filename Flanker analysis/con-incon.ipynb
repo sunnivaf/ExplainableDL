{
 "cells": [
  {
   "cell_type": "code",
   "execution_count": 1,
   "metadata": {},
   "outputs": [],
   "source": [
    "import pandas as pd\n",
    "import numpy as np\n",
    "from matplotlib import pyplot as plt\n",
    "from scipy.stats import ttest_ind"
   ]
  },
  {
   "cell_type": "code",
   "execution_count": 2,
   "metadata": {},
   "outputs": [],
   "source": [
    "placebo = pd.read_csv('Group level/Placebo.csv')\n",
    "alcohol = pd.read_csv('Group level/Alcohol.csv')"
   ]
  },
  {
   "cell_type": "code",
   "execution_count": 3,
   "metadata": {},
   "outputs": [],
   "source": [
    "def round_list(list, decimal): #Decimal = how many decimals included\n",
    "    new_list = []\n",
    "    for number in list:\n",
    "        new_list.append(round(number, decimal))\n",
    "    return new_list"
   ]
  },
  {
   "cell_type": "code",
   "execution_count": 4,
   "metadata": {},
   "outputs": [],
   "source": [
    "# Fix types and change None to max RT [ms]\n",
    "alcohol['RT'] = alcohol['RT'].replace('None',2000).astype(int)\n",
    "placebo['RT'] = placebo['RT'].replace('None',2000).astype(int)\n",
    "\n",
    "alcohol = alcohol.astype({'trialtype':'string'})\n",
    "placebo = placebo.astype({'trialtype':'string'})"
   ]
  },
  {
   "cell_type": "code",
   "execution_count": 5,
   "metadata": {},
   "outputs": [],
   "source": [
    "#Find congurent/incongurent responses\n",
    "p_RT = placebo.groupby('trialtype')['RT'].mean().to_dict()\n",
    "a_RT = alcohol.groupby('trialtype')['RT'].mean().to_dict()\n",
    "p_acc = placebo.groupby('trialtype')['accuracy'].mean().to_dict()\n",
    "a_acc = alcohol.groupby('trialtype')['accuracy'].mean().to_dict()"
   ]
  },
  {
   "cell_type": "code",
   "execution_count": 6,
   "metadata": {},
   "outputs": [],
   "source": [
    "#Choose var to plot:\n",
    "#var = 'RT'\n",
    "var = 'accuracy'"
   ]
  },
  {
   "cell_type": "code",
   "execution_count": 7,
   "metadata": {},
   "outputs": [
    {
     "name": "stdout",
     "output_type": "stream",
     "text": [
      "[0.989, 0.984]\n",
      "[0.985, 0.969]\n"
     ]
    }
   ],
   "source": [
    "labels = ['Non-alcohol', 'Alcohol']\n",
    "## Mean values ##\n",
    "if var == 'RT':\n",
    "    con = round_list([p_RT['congurent'],a_RT['congurent']],0)\n",
    "    incon = round_list([p_RT['incogurent'],a_RT['incogurent']],0)\n",
    "\n",
    "if var == 'accuracy':\n",
    "    con = round_list([p_acc['congurent'],a_acc['congurent']],3)\n",
    "    incon = round_list([p_acc['incogurent'],a_acc['incogurent']],3)\n",
    "\n",
    "print(con)\n",
    "print(incon)\n"
   ]
  },
  {
   "cell_type": "code",
   "execution_count": 8,
   "metadata": {},
   "outputs": [],
   "source": [
    "## Values for SDs/error bars\n",
    "p_con = placebo.loc[placebo['trialtype'] == 'congurent']\n",
    "p_incon = placebo.loc[placebo['trialtype'] == 'incogurent']\n",
    "a_con = alcohol.loc[alcohol['trialtype'] == 'congurent']\n",
    "a_incon = alcohol.loc[alcohol['trialtype'] == 'incogurent']\n",
    "#p_con.head()"
   ]
  },
  {
   "cell_type": "code",
   "execution_count": 9,
   "metadata": {},
   "outputs": [
    {
     "name": "stdout",
     "output_type": "stream",
     "text": [
      "[0.10642856726723118, 0.11987768650679835, 0.12401959270615269, 0.17399263633843817]\n"
     ]
    }
   ],
   "source": [
    "#Errors\n",
    "errors = [np.std(p_con[var]), np.std(p_incon[var]), np.std(a_con[var]), np.std(a_incon[var])]\n",
    "print(errors)"
   ]
  },
  {
   "cell_type": "code",
   "execution_count": 10,
   "metadata": {},
   "outputs": [],
   "source": [
    "# Adapted from https://stackoverflow.com/questions/11517986/indicating-the-statistically-significant-difference-in-bar-graph\n",
    "\n",
    "def annotate_p_values(num1, num2, data, center, height, yerr=None, dh=.05, barh=.05, fs=None, maxasterix=None):\n",
    "    \"\"\" \n",
    "    Annotate barplot with p-values.\n",
    "\n",
    "    :param num1: number of left bar to put bracket over\n",
    "    :param num2: number of right bar to put bracket over\n",
    "    :param data: string to write or number for generating asterixes\n",
    "    :param center: centers of all bars (like plt.bar() input)\n",
    "    :param height: heights of all bars (like plt.bar() input)\n",
    "    :param yerr: yerrs of all bars (like plt.bar() input)\n",
    "    :param dh: height offset over bar / bar + yerr in axes coordinates (0 to 1)\n",
    "    :param barh: bar height in axes coordinates (0 to 1)\n",
    "    :param fs: font size\n",
    "    :param maxasterix: maximum number of asterixes to write (for very small p-values)\n",
    "    \"\"\"\n",
    "\n",
    "    if type(data) is str:\n",
    "        text = data\n",
    "    else:\n",
    "        # * is p < 0.05\n",
    "        # ** is p < 0.005\n",
    "        # *** is p < 0.0005\n",
    "        # etc.\n",
    "        text = ''\n",
    "        p = .05\n",
    "\n",
    "        while data < p:\n",
    "            text += '*'\n",
    "            p /= 10.\n",
    "            \n",
    "            if p < 0.00005:\n",
    "                text = '****'\n",
    "                break\n",
    "\n",
    "            if maxasterix and len(text) == maxasterix:\n",
    "                break\n",
    "\n",
    "        if len(text) == 0:\n",
    "            text = 'n. s.'\n",
    "\n",
    "    lx, ly = center[num1], height[num1]\n",
    "    rx, ry = center[num2], height[num2]\n",
    "\n",
    "    if yerr:\n",
    "        ly += yerr[num1]\n",
    "        ry += yerr[num2]\n",
    "\n",
    "    ax_y0, ax_y1 = plt.gca().get_ylim()\n",
    "    dh *= (ax_y1 - ax_y0)\n",
    "    barh *= (ax_y1 - ax_y0)\n",
    "\n",
    "    y = max(ly, ry) + dh\n",
    "\n",
    "    barx = [lx, lx, rx, rx]\n",
    "    bary = [y, y+barh, y+barh, y]\n",
    "    mid = ((lx+rx)/2, y+barh)\n",
    "\n",
    "    plt.plot(barx, bary, c='black')\n",
    "\n",
    "    kwargs = dict(ha='center', va='bottom')\n",
    "    if fs is not None:\n",
    "        kwargs['fontsize'] = fs\n",
    "\n",
    "    plt.text(*mid, text, **kwargs)"
   ]
  },
  {
   "cell_type": "code",
   "execution_count": 11,
   "metadata": {},
   "outputs": [
    {
     "name": "stdout",
     "output_type": "stream",
     "text": [
      "Congurent\n",
      "T-statistic value for accuracy:  0.7895473800918632\n",
      "P-value for accuracy:  0.429890\n"
     ]
    }
   ],
   "source": [
    "#Finding congrunet t-statistics\n",
    "statistic_con, pvalue_con = ttest_ind(p_con[var], a_con[var])\n",
    "print('Congurent')\n",
    "print('T-statistic value for ' + var + ': ', statistic_con)\n",
    "print('P-value for ' +  var + ': ', format(pvalue_con, 'f'))"
   ]
  },
  {
   "cell_type": "code",
   "execution_count": 12,
   "metadata": {},
   "outputs": [
    {
     "name": "stdout",
     "output_type": "stream",
     "text": [
      "Incongurent\n",
      "T-statistic value for accuracy:  2.442733174669074\n",
      "P-value for accuracy:  0.014666\n"
     ]
    }
   ],
   "source": [
    "#Finding incongruent t-statistics\n",
    "statistic_incon, pvalue_incon = ttest_ind(p_incon[var], a_incon[var])\n",
    "print('Incongurent')\n",
    "print('T-statistic value for ' + var + ': ', statistic_incon)\n",
    "print('P-value for ' +  var + ': ', format(pvalue_incon, 'f'))"
   ]
  },
  {
   "cell_type": "code",
   "execution_count": 13,
   "metadata": {},
   "outputs": [
    {
     "data": {
      "image/png": "[encoded data removed]",
      "text/plain": [
       "<Figure size 640x480 with 1 Axes>"
      ]
     },
     "metadata": {},
     "output_type": "display_data"
    }
   ],
   "source": [
    "# Plot incongurent/congurent bar charts\n",
    "x =  np.arange(len(labels))\n",
    "width = 0.35\n",
    "err_con = [errors[0], errors[2]]\n",
    "err_incon = [errors[1], errors[3]]\n",
    "\n",
    "heights = [con[0], incon[0], con[1], incon[1]]\n",
    "bars = [-width/2, width/2, 1-width/2, 1+width/2]\n",
    "\n",
    "p1 = plt.bar(x - width/2, con, color='lightcoral', label='Congruent', width=width, yerr=err_con, ecolor='k',capsize=3)\n",
    "p2 = plt.bar(x + width/2, incon, color='moccasin', label='Incongruent', width=width, yerr=err_incon, ecolor='k', capsize=3)\n",
    "plt.bar_label(p1, label_type='center')\n",
    "plt.bar_label(p2, label_type='center')\n",
    "plt.title('Average ' + var + ' for congruent/incongruent responses')\n",
    "plt.xticks([i for i in range(len(labels))],labels)\n",
    "if var == 'RT':\n",
    "    plt.ylabel('Response time [ms]')\n",
    "    plt.ylim(300,1100)\n",
    "    annotate_p_values(0,2,pvalue_con,center=bars,height=heights,dh=.3)\n",
    "    annotate_p_values(1,3,pvalue_incon,center=bars,height=heights,dh=.35)\n",
    "if var == 'accuracy':\n",
    "    plt.ylabel('Accuracy')\n",
    "    plt.ylim(0.45,1.4)\n",
    "    annotate_p_values(0,2,pvalue_con,center=bars,height=heights,dh=.15)\n",
    "    annotate_p_values(1,3,pvalue_incon,center=bars,height=heights,dh=.25)\n",
    "plt.legend()\n",
    "plt.savefig('con-incon-' + var + '.png')"
   ]
  }
 ],
 "metadata": {
  "kernelspec": {
   "display_name": "Expyriment",
   "language": "python",
   "name": "python3"
  },
  "language_info": {
   "codemirror_mode": {
    "name": "ipython",
    "version": 3
   },
   "file_extension": ".py",
   "mimetype": "text/x-python",
   "name": "python",
   "nbconvert_exporter": "python",
   "pygments_lexer": "ipython3",
   "version": "3.7.13"
  },
  "orig_nbformat": 4
 },
 "nbformat": 4,
 "nbformat_minor": 2
}
