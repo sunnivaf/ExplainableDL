{
 "cells": [
  {
   "cell_type": "code",
   "execution_count": 1,
   "metadata": {},
   "outputs": [],
   "source": [
    "from expyriment.misc import data_preprocessing"
   ]
  },
  {
   "cell_type": "code",
   "execution_count": 94,
   "metadata": {},
   "outputs": [
    {
     "name": "stdout",
     "output_type": "stream",
     "text": [
      "** Expyriment Data Preprocessor **\n",
      "found 1 subject_data sets\n",
      "found 8 variables: ['subject_id', 'block', 'correctresp', 'response', 'trial', 'RT', 'accuracy', 'trialtype']\n",
      "   reading P20/flanker_20_202302241050.xpd\n",
      "write file: P20S2F1.csv (768 cells in 96 rows)\n"
     ]
    }
   ],
   "source": [
    "### Convert Flanker data to csv ###\n",
    "# File needed: flanker_ab_2023cdefghij.xpd\n",
    "# ab = participant number. If number < 10: write 0 insted of \"a\" in data_processing line below\n",
    "# cdef = date. MonthDay\n",
    "# ghij = time\n",
    "###\n",
    "participant = '20'\n",
    "date = '0224'\n",
    "time = '1050'\n",
    "session = '2'\n",
    "flanker = '1'\n",
    "\n",
    "data_preprocessing.write_concatenated_data('P'+participant,'flanker_'+participant+'_2023'+date+time,'P'+participant+'S'+session+'F'+flanker+'.csv') #Replace first parameter with name of folder where xdp file is located"
   ]
  },
  {
   "cell_type": "markdown",
   "metadata": {},
   "source": []
  }
 ],
 "metadata": {
  "kernelspec": {
   "display_name": "Expyriment",
   "language": "python",
   "name": "python3"
  },
  "language_info": {
   "codemirror_mode": {
    "name": "ipython",
    "version": 3
   },
   "file_extension": ".py",
   "mimetype": "text/x-python",
   "name": "python",
   "nbconvert_exporter": "python",
   "pygments_lexer": "ipython3",
   "version": "3.7.13"
  },
  "orig_nbformat": 4
 },
 "nbformat": 4,
 "nbformat_minor": 2
}
