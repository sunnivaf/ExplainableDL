{
 "cells": [
  {
   "cell_type": "code",
   "execution_count": 23,
   "metadata": {},
   "outputs": [],
   "source": [
    "import pandas as pd\n",
    "import matplotlib.pyplot as plt\n",
    "import numpy as np\n",
    "from scipy.stats import ttest_ind"
   ]
  },
  {
   "cell_type": "code",
   "execution_count": 24,
   "metadata": {},
   "outputs": [],
   "source": [
    "def round_list(list, decimal):\n",
    "    new_list = []\n",
    "    for number in list:\n",
    "        new_list.append(round(number, decimal))\n",
    "    return new_list"
   ]
  },
  {
   "cell_type": "code",
   "execution_count": 25,
   "metadata": {},
   "outputs": [],
   "source": [
    "#Choose which sessions and values to analyse\n",
    "\n",
    "session = 'pre_drink' # Compare the sessions before drinks\n",
    "#session = 'alcohol' # Compare before and after alcohol\n",
    "#session = 'placebo' # Compare before and after non-alcohol\n",
    "#session = 'normal' # Compare non-alcohol vs alcohol\n",
    "\n",
    "value = 'accuracy'\n",
    "#value = 'RT'\n",
    "\n",
    "rounding_var = 0\n",
    "if value == 'accuracy':\n",
    "    rounding_var = 3"
   ]
  },
  {
   "cell_type": "code",
   "execution_count": 26,
   "metadata": {},
   "outputs": [],
   "source": [
    "if session == 'pre_drink':\n",
    "    labels = ['Pre-non-alcohol', 'Pre-alcohol']\n",
    "    color = ['palevioletred', 'lightskyblue']\n",
    "    placebo = pd.read_csv('Group level/Baseline-placebo.csv')\n",
    "    alcohol = pd.read_csv('Group level/Baseline-alcohol.csv')   \n",
    "elif session == 'alcohol':\n",
    "    labels = ['Pre-alcohol', 'Alcohol']\n",
    "    color = ['lightskyblue', 'cornflowerblue']\n",
    "    placebo = pd.read_csv('Group level/Baseline-alcohol.csv')\n",
    "    alcohol = pd.read_csv('Group level/Alcohol.csv')\n",
    "elif session == 'placebo':\n",
    "    labels = ['Pre-non-alcohol', 'Non-alcohol']\n",
    "    color = ['palevioletred', 'plum']\n",
    "    placebo = pd.read_csv('Group level/Baseline-placebo.csv')\n",
    "    alcohol = pd.read_csv('Group level/Placebo.csv')\n",
    "elif session == 'normal':\n",
    "    labels = ['Non-alcohol', 'Alcohol']\n",
    "    color = ['plum', 'cornflowerblue']\n",
    "    placebo = pd.read_csv('Group level/Placebo.csv')\n",
    "    alcohol = pd.read_csv('Group level/Alcohol.csv')   "
   ]
  },
  {
   "cell_type": "code",
   "execution_count": 27,
   "metadata": {},
   "outputs": [],
   "source": [
    "# Fix types and change None to max RT [ms]\n",
    "alcohol['RT'] = alcohol['RT'].replace('None',2000).astype(int)\n",
    "placebo['RT'] = placebo['RT'].replace('None',2000).astype(int)\n",
    "\n",
    "alcohol = alcohol.astype({'trialtype':'string'})\n",
    "placebo = placebo.astype({'trialtype':'string'})"
   ]
  },
  {
   "cell_type": "code",
   "execution_count": 28,
   "metadata": {},
   "outputs": [],
   "source": [
    "# Finding standard deviations\n",
    "p_std = np.std(placebo[value])\n",
    "a_std = np.std(alcohol[value])\n",
    "\n",
    "#Finding means\n",
    "p_mean = placebo[value].mean()\n",
    "a_mean = alcohol[value].mean()"
   ]
  },
  {
   "cell_type": "code",
   "execution_count": 29,
   "metadata": {},
   "outputs": [
    {
     "name": "stdout",
     "output_type": "stream",
     "text": [
      "T-statistic value for accuracy:  -2.7170353889438763\n",
      "P-value for accuracy:  0.006617\n",
      "P-value scientific notation:  0.006616511498134695\n"
     ]
    }
   ],
   "source": [
    "#Finding t-statistics\n",
    "statistic, pvalue = ttest_ind(placebo[value], alcohol[value])\n",
    "print('T-statistic value for ' + value + ': ', statistic)\n",
    "print('P-value for ' + value + ': ', format(pvalue, 'f'))\n",
    "print('P-value scientific notation: ', pvalue)"
   ]
  },
  {
   "cell_type": "code",
   "execution_count": 30,
   "metadata": {},
   "outputs": [],
   "source": [
    "# Adapted from https://stackoverflow.com/questions/11517986/indicating-the-statistically-significant-difference-in-bar-graph\n",
    "\n",
    "def annotate_p_values(num1, num2, data, center, height, yerr=None, dh=.05, barh=.05, fs=None, maxasterix=None):\n",
    "    \"\"\" \n",
    "    Annotate barplot with p-values.\n",
    "\n",
    "    :param num1: number of left bar to put bracket over\n",
    "    :param num2: number of right bar to put bracket over\n",
    "    :param data: string to write or number for generating asterixes\n",
    "    :param center: centers of all bars (like plt.bar() input)\n",
    "    :param height: heights of all bars (like plt.bar() input)\n",
    "    :param yerr: yerrs of all bars (like plt.bar() input)\n",
    "    :param dh: height offset over bar / bar + yerr in axes coordinates (0 to 1)\n",
    "    :param barh: bar height in axes coordinates (0 to 1)\n",
    "    :param fs: font size\n",
    "    :param maxasterix: maximum number of asterixes to write (for very small p-values)\n",
    "    \"\"\"\n",
    "\n",
    "    if type(data) is str:\n",
    "        text = data\n",
    "    else:\n",
    "        # * is p < 0.05\n",
    "        # ** is p < 0.005\n",
    "        # *** is p < 0.0005\n",
    "        # etc.\n",
    "        text = ''\n",
    "        p = .05\n",
    "\n",
    "        while data < p:\n",
    "            text += '*'\n",
    "            p /= 10.\n",
    "\n",
    "            if p < 0.00005:\n",
    "                text = '****'\n",
    "                break\n",
    "            \n",
    "            if maxasterix and len(text) == maxasterix:\n",
    "                break\n",
    "\n",
    "        if len(text) == 0:\n",
    "            text = 'n. s.'\n",
    "\n",
    "    lx, ly = center[num1], height[num1]\n",
    "    rx, ry = center[num2], height[num2]\n",
    "\n",
    "    if yerr:\n",
    "        ly += yerr[num1]\n",
    "        ry += yerr[num2]\n",
    "\n",
    "    ax_y0, ax_y1 = plt.gca().get_ylim()\n",
    "    dh *= (ax_y1 - ax_y0)\n",
    "    barh *= (ax_y1 - ax_y0)\n",
    "\n",
    "    y = max(ly, ry) + dh\n",
    "\n",
    "    barx = [lx, lx, rx, rx]\n",
    "    bary = [y, y+barh, y+barh, y]\n",
    "    mid = ((lx+rx)/2, y+barh)\n",
    "\n",
    "    plt.plot(barx, bary, c='black')\n",
    "\n",
    "    kwargs = dict(ha='center', va='bottom')\n",
    "    if fs is not None:\n",
    "        kwargs['fontsize'] = fs\n",
    "\n",
    "    plt.text(*mid, text, **kwargs)"
   ]
  },
  {
   "cell_type": "code",
   "execution_count": 31,
   "metadata": {},
   "outputs": [
    {
     "data": {
      "image/png": "[encoded data removed]",
      "text/plain": [
       "<Figure size 640x480 with 1 Axes>"
      ]
     },
     "metadata": {},
     "output_type": "display_data"
    }
   ],
   "source": [
    "# Variables for plotting\n",
    "means = round_list([p_mean, a_mean],rounding_var) # Rounding the values for visualisation\n",
    "errors = [p_std, a_std]\n",
    "bars = np.arange(len(means))\n",
    "\n",
    "plot = plt.bar(labels, means, color=color)\n",
    "plt.title('Average ' + value + ' for all participants')\n",
    "plt.bar_label(plot, label_type='center')\n",
    "plt.errorbar(labels, means, yerr=errors,fmt='none', capsize=3, ecolor='k') # Adds SD error bars\n",
    "if value == 'RT':\n",
    "    plt.ylabel('Response time [ms]')\n",
    "    plt.ylim(300,1100)\n",
    "    annotate_p_values(0,1,pvalue,center=bars,height=means,dh=.35)\n",
    "elif value == 'accuracy':\n",
    "    plt.ylabel('Accuracy')\n",
    "    plt.ylim(0.45,1.25)\n",
    "    annotate_p_values(0,1,pvalue,center=bars,height=means,dh=.22)\n",
    "plt.savefig(session + '_' + value + '.png')"
   ]
  },
  {
   "cell_type": "code",
   "execution_count": 32,
   "metadata": {},
   "outputs": [],
   "source": [
    "# Adding pre-experiment variables for plots to add inn appendix\n",
    "#baseline = pd.read_csv('Group level/Baseline-All.csv')\n",
    "#baseline['RT'] = baseline['RT'].replace('None',2000).astype(int)\n",
    "#baseline = baseline.astype({'trialtype':'string'})\n",
    "#baseline.dtypes\n",
    "\n",
    "#b_mean = baseline[value].mean()\n",
    "#b_std = np.std(baseline[value])"
   ]
  },
  {
   "cell_type": "code",
   "execution_count": 33,
   "metadata": {},
   "outputs": [],
   "source": [
    "#labels = ['Pre-Experiment','Non-Alcohol', 'Alcohol']\n",
    "#means = round_list([b_mean, p_mean, a_mean],rounding_var) # Rounding the values for visualisation\n",
    "#color = ['lightgreen','plum', 'cornflowerblue']\n",
    "#errors = [b_std,p_std, a_std]\n",
    "#bars = np.arange(len(means))\n",
    "\n",
    "#plot = plt.bar(labels, means, color=color)\n",
    "#plt.title('Average ' + value + ' for all participants')\n",
    "#plt.errorbar(labels, means, yerr=errors,fmt='none', capsize=3, ecolor='k') # Adds SD error bars\n",
    "#if value == 'RT':\n",
    " #   plt.ylabel('Response time [ms]')\n",
    "  #  plt.ylim(300,1000)\n",
    "#elif value == 'accuracy':\n",
    "#    plt.ylabel('Accuracy')\n",
    "#    plt.ylim(0.45,1.2)\n",
    "#plt.bar_label(plot, label_type='center')\n",
    "#plt.savefig('pre_experiment' + session + value + '.png')"
   ]
  }
 ],
 "metadata": {
  "kernelspec": {
   "display_name": "Expyriment",
   "language": "python",
   "name": "python3"
  },
  "language_info": {
   "codemirror_mode": {
    "name": "ipython",
    "version": 3
   },
   "file_extension": ".py",
   "mimetype": "text/x-python",
   "name": "python",
   "nbconvert_exporter": "python",
   "pygments_lexer": "ipython3",
   "version": "3.7.13"
  },
  "orig_nbformat": 4,
  "vscode": {
   "interpreter": {
    "hash": "dc5e13a9be33f8202f8cf3bb24e3059210f256a1e40a66e11f3f00f9ddfb21c5"
   }
  }
 },
 "nbformat": 4,
 "nbformat_minor": 2
}
