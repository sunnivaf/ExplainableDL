{
 "cells": [
  {
   "cell_type": "code",
   "execution_count": 1,
   "metadata": {},
   "outputs": [],
   "source": [
    "import os\n",
    "import numpy as np\n",
    "import mne\n",
    "mne.set_log_level('error')\n",
    "import matplotlib\n",
    "import matplotlib.pyplot as plt\n",
    "matplotlib.use('TkAgg')\n",
    "from scipy.stats import ttest_ind\n",
    "import matplotlib.image as mpimg"
   ]
  },
  {
   "cell_type": "code",
   "execution_count": 2,
   "metadata": {},
   "outputs": [],
   "source": [
    "# subject = \"P007\"\n",
    "# session = 2\n",
    "# run = 1\n",
    "\n",
    "# data_dir = f\"../Subjects/\"\n",
    "# f_name = f\"sub-{subject}/ses-S00{session}/\" + f'sub-{subject}_ses-S00' + str(session) + '_task-Default_run-00' + str(run) # Data recorded using unicorn system\n",
    "# f_format = '_eeg.fif'\n",
    "# f_annotated_format = '_eeg-filt-raw-annotated.fif'\n",
    "\n",
    "# raw_unfiltered = mne.io.read_raw_fif(data_dir+f_name+f_format, preload=True, verbose=False)\n",
    "# raw_filtered = raw_unfiltered.filter(l_freq=1, h_freq=30)\n",
    "# raw_filtered.plot()"
   ]
  },
  {
   "cell_type": "code",
   "execution_count": 3,
   "metadata": {},
   "outputs": [],
   "source": [
    "# raw_filtered.annotations.save(data_dir+f_name+f_annotated_format)"
   ]
  },
  {
   "cell_type": "code",
   "execution_count": 4,
   "metadata": {},
   "outputs": [
    {
     "name": "stdout",
     "output_type": "stream",
     "text": [
      "Annotations applied successfully to unfiltered data. Session: 1, Run: 1\n",
      "Annotations applied successfully to unfiltered data. Session: 1, Run: 2\n",
      "Annotations applied successfully to unfiltered data. Session: 1, Run: 3\n",
      "Annotations applied successfully to unfiltered data. Session: 1, Run: 4\n",
      "Annotations applied successfully to unfiltered data. Session: 1, Run: 5\n",
      "Annotations applied successfully to unfiltered data. Session: 1, Run: 6\n",
      "Annotations applied successfully to unfiltered data. Session: 2, Run: 1\n",
      "Annotations applied successfully to unfiltered data. Session: 2, Run: 2\n",
      "No annotations found for this file.\n",
      "Annotations applied successfully to unfiltered data. Session: 2, Run: 4\n",
      "Annotations applied successfully to unfiltered data. Session: 2, Run: 5\n",
      "Annotations applied successfully to unfiltered data. Session: 2, Run: 6\n"
     ]
    }
   ],
   "source": [
    "subject = \"P017\"\n",
    "sessions = [1,2]\n",
    "runs = [1,2,3,4,5,6]\n",
    "for session in sessions:\n",
    "    for run in runs:\n",
    "        data_dir = f\"../Subjects/\"\n",
    "        f_name = f\"sub-{subject}/ses-S00{session}/\" + f'sub-{subject}_ses-S00' + str(session) + '_task-Default_run-00' + str(run) # Data recorded using unicorn system\n",
    "        f_annotated_format = '_eeg-filt-raw-annotated.fif'\n",
    "        f_raw_format = '_eeg.fif'\n",
    "\n",
    "        try:\n",
    "            annotations_filtered = mne.read_annotations(data_dir+f_name+f_annotated_format)\n",
    "        \n",
    "            # Load unfiltered raw EEG data\n",
    "            raw_unfiltered = mne.io.read_raw_fif(data_dir+f_name+f_raw_format, preload=True, verbose=False)\n",
    "\n",
    "            # Apply annotations to unfiltered data\n",
    "            raw_unfiltered.set_annotations(annotations_filtered)\n",
    "\n",
    "            # Now you can save the raw data with the applied annotations\n",
    "            raw_unfiltered.save(data_dir+f_name+'_eeg-annotated-raw.fif', overwrite=True)\n",
    "            \n",
    "            print(f\"Annotations applied successfully to unfiltered data. Session: {session}, Run: {run}\")\n",
    "\n",
    "        except FileNotFoundError:\n",
    "            print(\"No file found. Please check if the file exists.\")\n",
    "            continue\n",
    "        except OSError as e:\n",
    "            if 'No annotation data found in file' in str(e):\n",
    "                print(\"No annotations found for this file.\")\n",
    "                raw_unfiltered = mne.io.read_raw_fif(data_dir + f_name + f_raw_format, preload=True, verbose=False)\n",
    "                raw_unfiltered.save(data_dir + f_name + '_eeg-annotated-raw.fif', overwrite=True)\n",
    "            else:\n",
    "                print(\"An error occurred:\", e)\n",
    "            continue\n"
   ]
  }
 ],
 "metadata": {
  "kernelspec": {
   "display_name": "Python 3",
   "language": "python",
   "name": "python3"
  },
  "language_info": {
   "codemirror_mode": {
    "name": "ipython",
    "version": 3
   },
   "file_extension": ".py",
   "mimetype": "text/x-python",
   "name": "python",
   "nbconvert_exporter": "python",
   "pygments_lexer": "ipython3",
   "version": "3.11.7"
  }
 },
 "nbformat": 4,
 "nbformat_minor": 2
}
