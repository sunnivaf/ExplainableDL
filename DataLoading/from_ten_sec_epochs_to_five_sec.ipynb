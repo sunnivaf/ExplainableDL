{
 "cells": [
  {
   "cell_type": "code",
   "execution_count": 2,
   "metadata": {},
   "outputs": [],
   "source": [
    "import pyxdf\n",
    "import mne\n",
    "import numpy as np\n",
    "import pandas as pd"
   ]
  },
  {
   "cell_type": "code",
   "execution_count": 3,
   "metadata": {},
   "outputs": [],
   "source": [
    "#Creating 5-sec epochs from the \"Full_data_X_P_x.csv\" and the \"Full_data_Y_P_x.csv\" files (originally 10 sec epochs)\n",
    "samples = 2466\n",
    "\n",
    "X = np.loadtxt(\"Full_data_X_P01.csv\")\n",
    "Y = np.loadtxt(\"Full_data_Y_P01.csv\")\n",
    "\n",
    "X = X.reshape(\n",
    "     X.shape[0], X.shape[1] // samples, samples)"
   ]
  },
  {
   "cell_type": "code",
   "execution_count": null,
   "metadata": {},
   "outputs": [],
   "source": [
    "print(X.shape)\n",
    "print(Y)\n",
    "unique_test, counts_test = np.unique(Y, return_counts=True)\n",
    "print(np.asarray((unique_test, counts_test)).T)"
   ]
  },
  {
   "cell_type": "code",
   "execution_count": null,
   "metadata": {},
   "outputs": [],
   "source": [
    "#Changing from 10 sec epochs to 5 sec epochs\n",
    "\n",
    "length_five_sec = X.shape[0]*2\n",
    "print(length_five_sec)\n",
    "\n",
    "X_epochs_5 = np.zeros(shape=(length_five_sec,16,1233))\n",
    "Y_epochs_5 = np.zeros(length_five_sec,)\n",
    "\n",
    "for i in range(X.shape[0]):\n",
    "    X_epochs_5[i*2] = X[i,:,0:1233]\n",
    "    X_epochs_5[(i*2)+1] = X[i,:,1233:2466]\n",
    "\n",
    "\n",
    "for label in range(len(Y)):\n",
    "        print(label*2)\n",
    "        print(label*2+1)\n",
    "        if Y[label] == 0:\n",
    "            Y_epochs_5[label*2] = 0\n",
    "            Y_epochs_5[(label*2)+1] = 0\n",
    "        else:\n",
    "            Y_epochs_5[label*2] = 1\n",
    "            Y_epochs_5[(label*2)+1] = 1\n",
    "            "
   ]
  },
  {
   "cell_type": "code",
   "execution_count": null,
   "metadata": {},
   "outputs": [],
   "source": [
    "unique_test, counts_test = np.unique(Y_epochs_5, return_counts=True)\n",
    "print(np.asarray((unique_test, counts_test)).T)\n",
    "\n",
    "print(Y_epochs_5)\n",
    "print(Y_epochs_5.shape)"
   ]
  },
  {
   "cell_type": "code",
   "execution_count": null,
   "metadata": {},
   "outputs": [],
   "source": [
    "print(X_epochs_5.shape)\n",
    "print(Y_epochs_5.shape)"
   ]
  },
  {
   "cell_type": "code",
   "execution_count": 119,
   "metadata": {},
   "outputs": [],
   "source": [
    "X_epochs_5 = X_epochs_5.reshape(X_epochs_5.shape[0], -1)\n",
    "\n",
    "# saving reshaped array to file.\n",
    "np.savetxt(\"Full_data_X_P01_5_test.csv\", X_epochs_5)\n",
    "np.savetxt(\"Full_data_Y_P01_5_test.csv\", Y_epochs_5)"
   ]
  }
 ],
 "metadata": {
  "kernelspec": {
   "display_name": "CNN",
   "language": "python",
   "name": "python3"
  },
  "language_info": {
   "codemirror_mode": {
    "name": "ipython",
    "version": 3
   },
   "file_extension": ".py",
   "mimetype": "text/x-python",
   "name": "python",
   "nbconvert_exporter": "python",
   "pygments_lexer": "ipython3",
   "version": "3.8.16"
  },
  "orig_nbformat": 4
 },
 "nbformat": 4,
 "nbformat_minor": 2
}
