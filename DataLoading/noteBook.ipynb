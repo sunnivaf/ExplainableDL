{
 "cells": [
  {
   "cell_type": "code",
   "execution_count": 10,
   "metadata": {},
   "outputs": [],
   "source": [
    "from dataLoading import filepath, epoch_and_label_file\n",
    "import pandas as pd\n",
    "from sklearn.model_selection import train_test_split\n",
    "import numpy as np\n"
   ]
  },
  {
   "cell_type": "code",
   "execution_count": 11,
   "metadata": {},
   "outputs": [],
   "source": [
    "subject = \"P005\""
   ]
  },
  {
   "cell_type": "code",
   "execution_count": 54,
   "metadata": {},
   "outputs": [
    {
     "name": "stdout",
     "output_type": "stream",
     "text": [
      "Not setting metadata\n",
      "67 matching events found\n",
      "No baseline correction applied\n",
      "0 projection items activated\n",
      "Using data from preloaded Raw for 67 events and 1250 original time points ...\n",
      "0 bad epochs dropped\n",
      "1\n",
      "Not setting metadata\n",
      "62 matching events found\n",
      "No baseline correction applied\n",
      "0 projection items activated\n",
      "Using data from preloaded Raw for 62 events and 1250 original time points ...\n",
      "0 bad epochs dropped\n",
      "2\n",
      "Not setting metadata\n",
      "14 matching events found\n",
      "No baseline correction applied\n",
      "0 projection items activated\n",
      "Using data from preloaded Raw for 14 events and 1250 original time points ...\n",
      "0 bad epochs dropped\n",
      "3\n",
      "Not setting metadata\n",
      "61 matching events found\n",
      "No baseline correction applied\n",
      "0 projection items activated\n",
      "Using data from preloaded Raw for 61 events and 1250 original time points ...\n",
      "0 bad epochs dropped\n",
      "4\n",
      "Not setting metadata\n",
      "61 matching events found\n",
      "No baseline correction applied\n",
      "0 projection items activated\n",
      "Using data from preloaded Raw for 61 events and 1250 original time points ...\n",
      "0 bad epochs dropped\n",
      "5\n",
      "Not setting metadata\n",
      "62 matching events found\n",
      "No baseline correction applied\n",
      "0 projection items activated\n",
      "Using data from preloaded Raw for 62 events and 1250 original time points ...\n",
      "0 bad epochs dropped\n",
      "1\n",
      "Not setting metadata\n",
      "63 matching events found\n",
      "No baseline correction applied\n",
      "0 projection items activated\n",
      "Using data from preloaded Raw for 63 events and 1250 original time points ...\n",
      "0 bad epochs dropped\n",
      "2\n",
      "Not setting metadata\n",
      "62 matching events found\n",
      "No baseline correction applied\n",
      "0 projection items activated\n",
      "Using data from preloaded Raw for 62 events and 1250 original time points ...\n",
      "0 bad epochs dropped\n",
      "3\n",
      "(61, 16, 1250)\n",
      "(62, 16, 1250)\n",
      "(62,)\n"
     ]
    }
   ],
   "source": [
    "sessions = 2\n",
    "runs = [1,3,4,6]\n",
    "epoch_duration = 5\n",
    "channels = 16\n",
    "\n",
    "data_arrays = {}\n",
    "label_arrays = {}\n",
    "\n",
    "i = 0\n",
    "current_label = 'P'\n",
    "for s in range(sessions):\n",
    "    for r in runs:\n",
    "        fname = filepath(subject, s, r)\n",
    "        epochs_data = epoch_and_label_file(fname, epoch_duration)\n",
    "\n",
    "        # Determine the label based on session and run\n",
    "        if s == 1 and r in [3, 4, 6]:\n",
    "            label = 'A'  # Alcohol\n",
    "            label_value = 1\n",
    "        else:\n",
    "            label = 'P'  # Placebo (Sober)\n",
    "            label_value = 0\n",
    "        \n",
    "        if label != current_label:\n",
    "            i = 1  # Reset i for the new label series\n",
    "            current_label = label  # Update the current label\n",
    "        else:\n",
    "            i += 1 \n",
    "\n",
    "        # Create a unique key for each condition and run   \n",
    "        print(i)\n",
    "        data_key = f\"{label}{i}_X\"\n",
    "        label_key = f\"{label}{i}_Y\"\n",
    "\n",
    "        num_of_epochs, _, samples = epochs_data.shape\n",
    "        data_arrays[data_key] = np.zeros(shape=(num_of_epochs, channels, samples))\n",
    "        data_arrays[data_key][:] = epochs_data[:, :channels, :]\n",
    "\n",
    "        label_arrays[label_key] = np.full(shape=(num_of_epochs,), fill_value=label_value)\n",
    "\n",
    "print(data_arrays['P5_X'].shape)\n",
    "print(data_arrays['A1_X'].shape)\n",
    "print(label_arrays['A3_Y'].shape)"
   ]
  },
  {
   "cell_type": "code",
   "execution_count": 55,
   "metadata": {},
   "outputs": [],
   "source": [
    "# For testing set\n",
    "X_testing = np.vstack([data_arrays['P5_X'], data_arrays['A1_X']])\n",
    "Y_testing = np.hstack([label_arrays['P5_Y'], label_arrays['A1_Y']])\n",
    "\n",
    "# For training set\n",
    "# Note: np.vstack and np.hstack expect a sequence of arrays, so we need to provide the arrays in a list or tuple\n",
    "X_training = np.vstack([data_arrays['P1_X'], data_arrays['A3_X'], data_arrays['P3_X'], \n",
    "                        data_arrays['P4_X'], data_arrays['P2_X'], data_arrays['A2_X']])\n",
    "Y_training = np.hstack([label_arrays['P1_Y'], label_arrays['A3_Y'], label_arrays['P3_Y'], \n",
    "                        label_arrays['P4_Y'], label_arrays['P2_Y'], label_arrays['A2_Y']])"
   ]
  }
 ],
 "metadata": {
  "kernelspec": {
   "display_name": "CNN",
   "language": "python",
   "name": "python3"
  },
  "language_info": {
   "codemirror_mode": {
    "name": "ipython",
    "version": 3
   },
   "file_extension": ".py",
   "mimetype": "text/x-python",
   "name": "python",
   "nbconvert_exporter": "python",
   "pygments_lexer": "ipython3",
   "version": "3.11.7"
  },
  "orig_nbformat": 4,
  "vscode": {
   "interpreter": {
    "hash": "a64c15cac805e75e5cd56e761268cbb82e8d2c8f26d86b84b9321a0d58872176"
   }
  }
 },
 "nbformat": 4,
 "nbformat_minor": 2
}
