{
 "cells": [
  {
   "cell_type": "code",
   "execution_count": 58,
   "metadata": {},
   "outputs": [],
   "source": [
    "import os\n",
    "import numpy as np\n",
    "import mne\n",
    "mne.set_log_level('error')\n",
    "import matplotlib\n",
    "import matplotlib.pyplot as plt\n",
    "matplotlib.use('TkAgg')\n",
    "from scipy.stats import ttest_ind\n",
    "import matplotlib.image as mpimg"
   ]
  },
  {
   "cell_type": "code",
   "execution_count": 59,
   "metadata": {},
   "outputs": [
    {
     "name": "stdout",
     "output_type": "stream",
     "text": [
      "Attempting to read file: /Users/sunniva/Documents/Alcohol_Detection_Project_2023-2024/Subjects/sub-P020/ses-S001/sub-P020_ses-S001_task-Default_run-001_eeg-filt-raw-annotated.fif\n",
      "Attempting to read file: /Users/sunniva/Documents/Alcohol_Detection_Project_2023-2024/Subjects/sub-P020/ses-S001/sub-P020_ses-S001_task-Default_run-003_eeg-filt-raw-annotated.fif\n",
      "Attempting to read file: /Users/sunniva/Documents/Alcohol_Detection_Project_2023-2024/Subjects/sub-P020/ses-S001/sub-P020_ses-S001_task-Default_run-004_eeg-filt-raw-annotated.fif\n",
      "Attempting to read file: /Users/sunniva/Documents/Alcohol_Detection_Project_2023-2024/Subjects/sub-P020/ses-S001/sub-P020_ses-S001_task-Default_run-006_eeg-filt-raw-annotated.fif\n",
      "Attempting to read file: /Users/sunniva/Documents/Alcohol_Detection_Project_2023-2024/Subjects/sub-P020/ses-S002/sub-P020_ses-S002_task-Default_run-001_eeg-filt-raw-annotated.fif\n",
      "Attempting to read file: /Users/sunniva/Documents/Alcohol_Detection_Project_2023-2024/Subjects/sub-P020/ses-S002/sub-P020_ses-S002_task-Default_run-003_eeg-filt-raw-annotated.fif\n",
      "Attempting to read file: /Users/sunniva/Documents/Alcohol_Detection_Project_2023-2024/Subjects/sub-P020/ses-S002/sub-P020_ses-S002_task-Default_run-004_eeg-filt-raw-annotated.fif\n",
      "Attempting to read file: /Users/sunniva/Documents/Alcohol_Detection_Project_2023-2024/Subjects/sub-P020/ses-S002/sub-P020_ses-S002_task-Default_run-006_eeg-filt-raw-annotated.fif\n"
     ]
    }
   ],
   "source": [
    "data_path = \"/Users/sunniva/Documents/Alcohol_Detection_Project_2023-2024/Subjects/\"\n",
    "ica_path = \"./ICA/\"\n",
    "subject = \"P020\"\n",
    "sessions = 2\n",
    "runs = [1, 3, 4, 6]\n",
    "\n",
    "for s in range(sessions):\n",
    "    for r in runs:\n",
    "        p_id = f\"sub-{subject}/\" + f\"ses-S00{s+1}/\" + f\"sub-{subject}_ses-S00{s+1}_task-Default_run-00{r}\"\n",
    "        file_path = data_path + p_id + \"_eeg-filt-raw-annotated.fif\"\n",
    "        print(\"Attempting to read file:\", file_path)  # Add this line to check the file path\n",
    "        if os.path.exists(file_path):\n",
    "            raw = mne.io.read_raw_fif(file_path, preload=True)\n",
    "            ica = mne.preprocessing.read_ica(ica_path + '/' + p_id + '-ica.fif')\n",
    "            raw_ica = ica.apply(raw)\n",
    "            # raw.plot()\n",
    "            # if not os.path.exists(f\"./Preprocessed/{p_id}\"):\n",
    "            # os.makedirs(f\"./Preprocessed/{p_id}\")\n",
    "            data_dir = f\"./Preprocessed/\"\n",
    "            raw.save(data_dir + p_id + '-processed.fif', overwrite=True)\n",
    "        else:\n",
    "            print(\"File not found:\", file_path)  # Add this line to print a message if the file is not found"
   ]
  }
 ],
 "metadata": {
  "kernelspec": {
   "display_name": "Python 3",
   "language": "python",
   "name": "python3"
  },
  "language_info": {
   "codemirror_mode": {
    "name": "ipython",
    "version": 3
   },
   "file_extension": ".py",
   "mimetype": "text/x-python",
   "name": "python",
   "nbconvert_exporter": "python",
   "pygments_lexer": "ipython3",
   "version": "3.11.7"
  }
 },
 "nbformat": 4,
 "nbformat_minor": 2
}
